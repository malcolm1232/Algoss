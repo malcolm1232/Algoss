version https://git-lfs.github.com/spec/v1
oid sha256:66f422a045872a9ccaccf6d238e672659cdfbe527ccf8177cce43ecc6872b17a
size 2251186
