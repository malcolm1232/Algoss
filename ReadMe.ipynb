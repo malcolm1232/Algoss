version https://git-lfs.github.com/spec/v1
oid sha256:a20cbbbc27f9f6a99197e57a426b9b8da22c6237e6490b3abd6b02869a01b5f4
size 1786220
