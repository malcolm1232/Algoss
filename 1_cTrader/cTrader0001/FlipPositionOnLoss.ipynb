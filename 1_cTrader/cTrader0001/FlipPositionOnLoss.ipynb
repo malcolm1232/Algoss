version https://git-lfs.github.com/spec/v1
oid sha256:2435dbd4dde052337b9d4579194320ab86db3dc3f210657f7fd3f3b766f2d4ab
size 21020
