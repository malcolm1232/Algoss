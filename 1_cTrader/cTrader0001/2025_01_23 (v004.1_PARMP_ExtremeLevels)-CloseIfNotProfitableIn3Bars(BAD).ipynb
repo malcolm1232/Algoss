version https://git-lfs.github.com/spec/v1
oid sha256:5f9c4479a9b78460ac9e1a49010e100a6e91ce8850083ac521f7f1464ded23fc
size 387924
