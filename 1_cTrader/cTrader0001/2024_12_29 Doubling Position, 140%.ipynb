version https://git-lfs.github.com/spec/v1
oid sha256:379c74e2f6e5012d0482cca735bbf65337adbb4757213aabf650462cf83afb16
size 34161
