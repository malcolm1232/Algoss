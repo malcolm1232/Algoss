version https://git-lfs.github.com/spec/v1
oid sha256:c59f3e0ae78ff10b26bae225342b5256217242434fac08cd8792e30570d49f4b
size 34797
