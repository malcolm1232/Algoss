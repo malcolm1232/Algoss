version https://git-lfs.github.com/spec/v1
oid sha256:a8a98ce79fef757cad26bbb36f879b80cf8112eb8bd865a1d9ca2830a6d5cf53
size 44481
