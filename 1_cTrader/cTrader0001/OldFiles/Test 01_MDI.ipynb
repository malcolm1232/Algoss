version https://git-lfs.github.com/spec/v1
oid sha256:da11d098c508c41c3351cc3281ff9732816d8c8f53a1840a5cbbd687c7422ca2
size 5602
