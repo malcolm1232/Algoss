version https://git-lfs.github.com/spec/v1
oid sha256:57d233f9e817ae673895700d2e6e26bbfb9d1e60e7c60ae2e0002ea1be0d5700
size 68005
