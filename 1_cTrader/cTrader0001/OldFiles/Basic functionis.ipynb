version https://git-lfs.github.com/spec/v1
oid sha256:3a957a1cd04e573d50061272d58a9a1a6b54e9d9f4351af0bdc936f94381f0c9
size 891
