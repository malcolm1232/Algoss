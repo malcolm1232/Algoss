version https://git-lfs.github.com/spec/v1
oid sha256:6823cadac86a734ef245ac513bcda9db3f4527982675807c3b95bc5fdd4f5f9d
size 28972
