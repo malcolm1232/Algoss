version https://git-lfs.github.com/spec/v1
oid sha256:0afd3038b763af5c77e9283eb40e975c8fa8681b9551e2fa88e2bd712b72cda5
size 71038
