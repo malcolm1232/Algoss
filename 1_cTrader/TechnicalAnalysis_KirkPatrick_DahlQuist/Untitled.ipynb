version https://git-lfs.github.com/spec/v1
oid sha256:51c1b7c3f1fc674efe42134c7ea6281f7c8d59caf80a98688cc5d96e0e37618d
size 489543
