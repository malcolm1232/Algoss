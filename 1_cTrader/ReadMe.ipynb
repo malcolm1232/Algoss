version https://git-lfs.github.com/spec/v1
oid sha256:3eb290e21ea8b45a4796718a0237443540e207f38fb83de57d9d6b0edc30bb0f
size 793825
