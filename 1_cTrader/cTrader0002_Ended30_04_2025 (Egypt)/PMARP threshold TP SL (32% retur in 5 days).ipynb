version https://git-lfs.github.com/spec/v1
oid sha256:f27f3d95d23d0c3cdc0d2cbdda384e3af7dfdbf06f69a7319ce7853353397464
size 12944
