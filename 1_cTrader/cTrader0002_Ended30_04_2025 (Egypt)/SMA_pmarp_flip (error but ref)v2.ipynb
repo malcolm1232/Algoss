version https://git-lfs.github.com/spec/v1
oid sha256:93858eee4256d5325bef5afe86817ec9cf36f6e0a053eafcc221628069f9a8cc
size 550865
