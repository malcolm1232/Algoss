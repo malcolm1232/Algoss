version https://git-lfs.github.com/spec/v1
oid sha256:05ab9a13e71e693dba9520db725b9f61dd17f987eed0ecac9717a4715e8f6f02
size 6320
