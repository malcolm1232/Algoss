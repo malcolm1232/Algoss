version https://git-lfs.github.com/spec/v1
oid sha256:5fbff0f92849ae78df9a115e8c57ebff1dcb0ad105e23426da942e6592d848e7
size 2577
