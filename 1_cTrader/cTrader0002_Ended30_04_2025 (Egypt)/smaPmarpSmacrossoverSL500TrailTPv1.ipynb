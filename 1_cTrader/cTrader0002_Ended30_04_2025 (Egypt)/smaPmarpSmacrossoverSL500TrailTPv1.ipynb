version https://git-lfs.github.com/spec/v1
oid sha256:d91e375e5ded76a0dcfecb4d8cdf06b2e6ce6a7173c296c1c549d244bd6b1480
size 18540
