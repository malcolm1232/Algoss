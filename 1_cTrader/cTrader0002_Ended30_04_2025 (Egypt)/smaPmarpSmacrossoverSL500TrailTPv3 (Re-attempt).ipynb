version https://git-lfs.github.com/spec/v1
oid sha256:af1a6b6e1e6b84d68461372325a59008dd21d0138732f68e18b0f7dfb9dff82c
size 23154
