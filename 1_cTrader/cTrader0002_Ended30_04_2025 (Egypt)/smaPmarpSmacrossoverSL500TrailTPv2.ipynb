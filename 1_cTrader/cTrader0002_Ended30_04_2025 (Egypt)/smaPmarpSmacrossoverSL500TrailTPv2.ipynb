version https://git-lfs.github.com/spec/v1
oid sha256:0766b277a28e427c913b953ee4ee4a52bf65c6a6186a2ec5cbf81e9c843d2b41
size 25115
