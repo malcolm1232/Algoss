version https://git-lfs.github.com/spec/v1
oid sha256:af51ba94a930a7810fffd7dd12d895a47dec4b632122fa18fec4dad67a8f4245
size 551661
