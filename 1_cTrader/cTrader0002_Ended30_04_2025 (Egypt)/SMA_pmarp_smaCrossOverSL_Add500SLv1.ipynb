version https://git-lfs.github.com/spec/v1
oid sha256:b50c466e8f99a2a78796cc0500445aa29b5b59f0dd6301ee06477e69cc169ef2
size 654117
