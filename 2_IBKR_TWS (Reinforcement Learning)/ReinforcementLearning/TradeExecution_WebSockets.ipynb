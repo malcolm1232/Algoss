version https://git-lfs.github.com/spec/v1
oid sha256:a08f67ca04c7efc2a73db531ff9fa37bfc23c0f3c2bf1b32e417403211a99528
size 12448
