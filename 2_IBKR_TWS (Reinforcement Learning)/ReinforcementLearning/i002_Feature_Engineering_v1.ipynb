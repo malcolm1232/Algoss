version https://git-lfs.github.com/spec/v1
oid sha256:1254bebc69d817bbb8642a9d34683fbeb0493db43c4d461b2669c8550435a30a
size 18507
