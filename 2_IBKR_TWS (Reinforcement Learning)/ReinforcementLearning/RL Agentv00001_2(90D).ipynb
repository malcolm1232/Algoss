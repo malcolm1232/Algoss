version https://git-lfs.github.com/spec/v1
oid sha256:3065ef964c9519e8a45f3ddc0895b9327cf0dbc7df4a6d0c65c05cb63aa6d6b4
size 382478
